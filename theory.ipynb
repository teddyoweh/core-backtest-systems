{
 "cells": [
  {
   "cell_type": "code",
   "execution_count": 1,
   "metadata": {},
   "outputs": [],
   "source": [
    "from datamodel import Listing, OrderDepth, Trade, TradingState,Trader\n",
    "\n",
    "timestamp = 1000\n",
    "\n",
    "listings = {\n",
    "\t\"PRODUCT1\": Listing(\n",
    "\t\tsymbol=\"PRODUCT1\", \n",
    "\t\tproduct=\"PRODUCT1\", \n",
    "\t\tdenomination= \"SEASHELLS\"\n",
    "\t),\n",
    "\t\"PRODUCT2\": Listing(\n",
    "\t\tsymbol=\"PRODUCT2\", \n",
    "\t\tproduct=\"PRODUCT2\", \n",
    "\t\tdenomination= \"SEASHELLS\"\n",
    "\t),\n",
    "}\n",
    "\n",
    "order_depths = {\n",
    "\t\"PRODUCT1\": OrderDepth(\n",
    "\t\tbuy_orders={10: 7, 9: 5},\n",
    "\t\tsell_orders={11: -4, 12: -8}\n",
    "\t),\n",
    "\t\"PRODUCT2\": OrderDepth(\n",
    "\t\tbuy_orders={142: 3, 141: 5},\n",
    "\t\tsell_orders={144: -5, 145: -8}\n",
    "\t),\t\n",
    "}\n",
    "\n",
    "own_trades = {\n",
    "\t\"PRODUCT1\": [],\n",
    "\t\"PRODUCT2\": []\n",
    "}\n",
    "\n",
    "market_trades = {\n",
    "\t\"PRODUCT1\": [\n",
    "\t\tTrade(\n",
    "\t\t\tsymbol=\"PRODUCT1\",\n",
    "\t\t\tprice=11,\n",
    "\t\t\tquantity=4,\n",
    "\t\t\tbuyer=\"\",\n",
    "\t\t\tseller=\"\",\n",
    "\t\t\ttimestamp=900\n",
    "\t\t)\n",
    "\t],\n",
    "\t\"PRODUCT2\": []\n",
    "}\n",
    "\n",
    "position = {\n",
    "\t\"PRODUCT1\": 3,\n",
    "\t\"PRODUCT2\": -5\n",
    " \n",
    "}\n",
    "\n",
    "observations = {}\n",
    "traderData = \"\"\n",
    "\n",
    "state = TradingState(\n",
    "\ttraderData,\n",
    "\ttimestamp,\n",
    "  listings,\n",
    "\torder_depths,\n",
    "\town_trades,\n",
    "\tmarket_trades,\n",
    "\tposition,\n",
    "\tobservations\n",
    ")"
   ]
  },
  {
   "cell_type": "code",
   "execution_count": 2,
   "metadata": {},
   "outputs": [
    {
     "name": "stdout",
     "output_type": "stream",
     "text": [
      "traderData: \n",
      "Observations: {}\n",
      "Acceptable price : 0.0\n",
      "Buy Order depth : 2, Sell order depth : 2\n",
      "SELL 7x 10\n",
      "Acceptable price : 0.0\n",
      "Buy Order depth : 2, Sell order depth : 2\n",
      "SELL 3x 142\n"
     ]
    },
    {
     "data": {
      "text/plain": [
       "({'PRODUCT1': [(PRODUCT1, 10, -7)], 'PRODUCT2': [(PRODUCT2, 142, -3)]},\n",
       " 1,\n",
       " 'SAMPLE')"
      ]
     },
     "execution_count": 2,
     "metadata": {},
     "output_type": "execute_result"
    }
   ],
   "source": [
    "drive = Trader()\n",
    "drive.run(state)"
   ]
  },
  {
   "cell_type": "code",
   "execution_count": 2,
   "metadata": {},
   "outputs": [
    {
     "name": "stdout",
     "output_type": "stream",
     "text": [
      "traderData: \n",
      "Observations: {}\n",
      "Acceptable price : 0.0\n",
      "Buy Order depth : 2, Sell order depth : 2\n",
      "SELL 7x 10\n",
      "Acceptable price : 0.0\n",
      "Buy Order depth : 2, Sell order depth : 2\n",
      "SELL 3x 142\n"
     ]
    },
    {
     "data": {
      "text/plain": [
       "({'PRODUCT1': [(PRODUCT1, 10, -7)], 'PRODUCT2': [(PRODUCT2, 142, -3)]},\n",
       " 1,\n",
       " 'SAMPLE')"
      ]
     },
     "execution_count": 2,
     "metadata": {},
     "output_type": "execute_result"
    }
   ],
   "source": [
    "drive = Trader()\n",
    "drive.run(state)"
   ]
  },
  {
   "cell_type": "code",
   "execution_count": null,
   "metadata": {},
   "outputs": [],
   "source": []
  }
 ],
 "metadata": {
  "kernelspec": {
   "display_name": "Python 3",
   "language": "python",
   "name": "python3"
  },
  "language_info": {
   "codemirror_mode": {
    "name": "ipython",
    "version": 3
   },
   "file_extension": ".py",
   "mimetype": "text/x-python",
   "name": "python",
   "nbconvert_exporter": "python",
   "pygments_lexer": "ipython3",
   "version": "3.9.6"
  }
 },
 "nbformat": 4,
 "nbformat_minor": 2
}
